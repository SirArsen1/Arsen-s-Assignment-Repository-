{
 "cells": [
  {
   "metadata": {},
   "cell_type": "markdown",
   "source": [
    "#### In-class Exercise\n",
    "1. Write a function that takes two parameters. It draws a line like the following:\n",
    "\n",
    "print_line(2,4): 2 sections(separated by + ), each section has a size of 4 (-)\n",
    "```\n",
    "+ - - - - + - - - - +\n",
    "```\n",
    "print_line(4,2): 4 sections, each section has a size of 2\n",
    "```\n",
    "+ - - + - - + - - + - - +\n",
    "```"
   ],
   "id": "e6cb644e8524c1de"
  },
  {
   "cell_type": "code",
   "id": "initial_id",
   "metadata": {
    "collapsed": true,
    "ExecuteTime": {
     "end_time": "2025-06-17T13:54:45.537549Z",
     "start_time": "2025-06-17T13:54:45.515624Z"
    }
   },
   "source": [
    "def print_line(section, size):\n",
    "\n",
    "    pass\n",
    "print_line(2,4)"
   ],
   "outputs": [
    {
     "name": "stdout",
     "output_type": "stream",
     "text": [
      "+ - +\n"
     ]
    },
    {
     "ename": "TypeError",
     "evalue": "object of type 'int' has no len()",
     "output_type": "error",
     "traceback": [
      "\u001B[0;31m---------------------------------------------------------------------------\u001B[0m",
      "\u001B[0;31mTypeError\u001B[0m                                 Traceback (most recent call last)",
      "Cell \u001B[0;32mIn[24], line 10\u001B[0m\n\u001B[1;32m      8\u001B[0m             \u001B[38;5;28mprint\u001B[39m(section[x], end\u001B[38;5;241m=\u001B[39mcell_inbetween)\n\u001B[1;32m      9\u001B[0m     \u001B[38;5;28;01mpass\u001B[39;00m\n\u001B[0;32m---> 10\u001B[0m \u001B[43mprint_line\u001B[49m\u001B[43m(\u001B[49m\u001B[38;5;241;43m2\u001B[39;49m\u001B[43m,\u001B[49m\u001B[38;5;241;43m4\u001B[39;49m\u001B[43m)\u001B[49m\n",
      "Cell \u001B[0;32mIn[24], line 7\u001B[0m, in \u001B[0;36mprint_line\u001B[0;34m(section, size)\u001B[0m\n\u001B[1;32m      5\u001B[0m \u001B[38;5;28;01mfor\u001B[39;00m z \u001B[38;5;129;01min\u001B[39;00m \u001B[38;5;28mrange\u001B[39m(section):\n\u001B[1;32m      6\u001B[0m     \u001B[38;5;28mprint\u001B[39m((cell), end\u001B[38;5;241m=\u001B[39mend_cell)\n\u001B[0;32m----> 7\u001B[0m     \u001B[38;5;28;01mfor\u001B[39;00m x \u001B[38;5;129;01min\u001B[39;00m \u001B[38;5;28;43mlen\u001B[39;49m\u001B[43m(\u001B[49m\u001B[38;5;28;43mint\u001B[39;49m\u001B[43m(\u001B[49m\u001B[43msection\u001B[49m\u001B[43m)\u001B[49m\u001B[43m)\u001B[49m:\n\u001B[1;32m      8\u001B[0m         \u001B[38;5;28mprint\u001B[39m(section[x], end\u001B[38;5;241m=\u001B[39mcell_inbetween)\n\u001B[1;32m      9\u001B[0m \u001B[38;5;28;01mpass\u001B[39;00m\n",
      "\u001B[0;31mTypeError\u001B[0m: object of type 'int' has no len()"
     ]
    }
   ],
   "execution_count": 24
  },
  {
   "metadata": {},
   "cell_type": "markdown",
   "source": [
    "2. Write a function `print_grid(section, size)`\n",
    "\n",
    "print_grid(3,1) would print a small grid:\n",
    "```\n",
    "+ - + - + - +\n",
    ".   .   .   .\n",
    "+ - + - + - +\n",
    ".   .   .   .\n",
    "+ - + - + - +\n",
    ".   .   .   .\n",
    "+ - + - + - +\n",
    "```\n",
    "\n",
    "print_grid(2, 5) prints a larger grid:\n",
    "\n",
    "```\n",
    "+ - - - - - + - - - - - +\n",
    ".           .           .\n",
    ".           .           .\n",
    ".           .           .\n",
    ".           .           .\n",
    ".           .           .\n",
    "+ - - - - - + - - - - - +\n",
    ".           .           .\n",
    ".           .           .\n",
    ".           .           .\n",
    ".           .           .\n",
    ".           .           .\n",
    "+ - - - - - + - - - - - +\n",
    "```\n"
   ],
   "id": "b60c04b944b46611"
  },
  {
   "metadata": {
    "ExecuteTime": {
     "end_time": "2025-06-16T22:41:12.503872Z",
     "start_time": "2025-06-16T22:41:12.500852Z"
    }
   },
   "cell_type": "code",
   "source": [
    "def print_grid(section, size):\n",
    "    pass\n",
    "\n",
    "print_grid(2,5)"
   ],
   "id": "5a8f5673fa40253d",
   "outputs": [],
   "execution_count": 84
  },
  {
   "metadata": {},
   "cell_type": "markdown",
   "source": [
    "3. Adjust your grid function so that it takes three parameters: \\\n",
    "    `print_grid(col, row, size)`\n",
    "print_grid(4,2,2) prints\n",
    "```\n",
    "+ - - + - - + - - + - - +\n",
    ".     .     .     .     .\n",
    ".     .     .     .     .\n",
    "+ - - + - - + - - + - - +\n",
    ".     .     .     .     .\n",
    ".     .     .     .     .\n",
    "+ - - + - - + - - + - - +\n",
    "```"
   ],
   "id": "551111692f81bc88"
  },
  {
   "metadata": {
    "ExecuteTime": {
     "end_time": "2025-06-16T22:32:44.110015Z",
     "start_time": "2025-06-16T22:32:44.105526Z"
    }
   },
   "cell_type": "code",
   "source": [
    "def print_grid(col, row, size):\n",
    "    pass\n",
    "\n",
    "print_grid(4,2,2)"
   ],
   "id": "a3a5ea1d4d27ce31",
   "outputs": [
    {
     "name": "stdout",
     "output_type": "stream",
     "text": [
      "+ - - + - - + - - + - - + \n",
      ".     .     .     .     .\n",
      ".     .     .     .     .\n",
      "+ - - + - - + - - + - - + \n",
      ".     .     .     .     .\n",
      ".     .     .     .     .\n",
      "+ - - + - - + - - + - - + \n"
     ]
    }
   ],
   "execution_count": 79
  },
  {
   "metadata": {},
   "cell_type": "markdown",
   "source": "Bonus: How to change the function so that it returns the grid as a string?",
   "id": "99dd5c17f823eb13"
  },
  {
   "metadata": {},
   "cell_type": "markdown",
   "source": "print(3,5)",
   "id": "3e1bf21fc2764841"
  },
  {
   "metadata": {},
   "cell_type": "markdown",
   "source": "",
   "id": "c5be911b89290642"
  },
  {
   "metadata": {
    "ExecuteTime": {
     "end_time": "2025-06-17T13:43:05.896450Z",
     "start_time": "2025-06-17T13:43:05.892411Z"
    }
   },
   "cell_type": "code",
   "source": "print()",
   "id": "4be503eb6781e78d",
   "outputs": [
    {
     "name": "stdout",
     "output_type": "stream",
     "text": [
      "3 5 4"
     ]
    }
   ],
   "execution_count": 10
  }
 ],
 "metadata": {
  "kernelspec": {
   "display_name": "Python 3",
   "language": "python",
   "name": "python3"
  },
  "language_info": {
   "codemirror_mode": {
    "name": "ipython",
    "version": 2
   },
   "file_extension": ".py",
   "mimetype": "text/x-python",
   "name": "python",
   "nbconvert_exporter": "python",
   "pygments_lexer": "ipython2",
   "version": "2.7.6"
  }
 },
 "nbformat": 4,
 "nbformat_minor": 5
}
